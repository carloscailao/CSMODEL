{
  "nbformat": 4,
  "nbformat_minor": 0,
  "metadata": {
    "colab": {
      "provenance": [],
      "toc_visible": true,
      "include_colab_link": true
    },
    "kernelspec": {
      "name": "python3",
      "display_name": "Python 3"
    },
    "language_info": {
      "name": "python"
    }
  },
  "cells": [
    {
      "cell_type": "markdown",
      "metadata": {
        "id": "view-in-github",
        "colab_type": "text"
      },
      "source": [
        "<a href=\"https://colab.research.google.com/github/carloscailao/CSMODEL/blob/main/notebook.ipynb\" target=\"_parent\"><img src=\"https://colab.research.google.com/assets/colab-badge.svg\" alt=\"Open In Colab\"/></a>"
      ]
    },
    {
      "cell_type": "markdown",
      "source": [
        "# 📄 Abstract\n",
        "\n",
        "This notebook is prepared in partial fulfillment of the **Statistical Modeling and Simulation (CSMODEL)** course under the **College of Computer Studies (CCS)** of De La Salle University – Manila.\n",
        "\n",
        "The research team, **Statisteros Modeleros**, is composed of three undergraduate students from the **Bachelor of Science in Computer Science** program. This project investigates real-world patterns in the **film industry from 2004 to 2025**, in correlation with the **rise of social media platforms** during the same period.\n",
        "\n",
        "Motivated by the popular belief that global attention spans are shrinking due to the emergence of short-form content such as **TikToks, Instagram Reels, and YouTube Shorts**, this study explores whether the **movie industry has responded or adapted** to these shifting media consumption habits.\n",
        "\n",
        "### 👥 Researchers\n",
        "\n",
        "<table>\n",
        "<tr>\n",
        "<td>\n",
        "\n",
        "**Carlos Luis B. Cailao**  \n",
        "_2nd Year, BS Computer Science – Software Technology_  \n",
        "📧 carlos_cailao@dlsu.edu.ph  \n",
        "\n",
        "**Andre Gabriel D. Llanes**  \n",
        "_2nd Year, BS Computer Science – Software Technology_  \n",
        "📧 andre_llanes@dlsu.edu.ph  \n",
        "\n",
        "**Sophia Pauline V. Sena**  \n",
        "_2nd Year, BS Computer Science – Network and Information Security_  \n",
        "📧 sophia_sena@dlsu.edu.ph  \n",
        "\n",
        "</td>\n",
        "<td align=\"right\" style=\"text-align: right; vertical-align: top;\">\n",
        "\n",
        "<strong>Statisteros Modeleros</strong><br>  \n",
        "<img src=\"https://raw.githubusercontent.com/carloscailao/CSMODEL/main/assets/StatisterosModeleros_Logo.png\" alt=\"Statisteros Modeleros Logo\" width=\"150\"><br>  \n",
        "<sub><i>Logo generated using ChatGPT</i></sub>\n",
        "\n",
        "</td>\n",
        "</tr>\n",
        "</table>\n",
        "\n",
        "---"
      ],
      "metadata": {
        "id": "-3JyqsqkFeVH"
      }
    },
    {
      "cell_type": "markdown",
      "source": [
        "# 📊 About the Datasets\n",
        "\n",
        "## 🎬 1. Movies Dataset – The Movies Database (TMDB)\n",
        "\n",
        "- The **TMDB Movie Database** is a comprehensive dataset containing key information about films such as:\n",
        "  - 🎞️ ID\n",
        "  - 🎬 Title\n",
        "  - ⭐ Average Vote\n",
        "  - 🗳️ Vote Count\n",
        "  - 📅 Release Date\n",
        "  - ⏱️ Runtime\n",
        "  - 💰 Revenue\n",
        "  - 📌 Status\n",
        "  - …and other attributes\n",
        "\n",
        "- **Source:** [Kaggle – TMDB Movies Dataset (930K+ Movies)](https://www.kaggle.com/datasets/asaniczka/tmdb-movies-dataset-2023-930k-movies?fbclid=IwY2xjawK7Og1leHRuA2FlbQIxMQABHlArG7Tyo1mSlbbwmYbOZ068LWVINqSO5yVICdjNNztmY--1a57isPs8cuts_aem_nJypZ3sxgaGXGtVjc-kKLA)\n",
        "\n",
        "- **Filtering Criteria:**\n",
        "  - The original dataset contained around **1 million movie entries**.\n",
        "  - To ensure **relevance and engagement**, only movies with **1,000+ vote counts** were retained.\n",
        "  - This filter reduced the dataset to **3,940 movies**.\n",
        "\n",
        "## 📱 2. Social Media Dataset – Manually Constructed from Statistics and Data Org\n",
        "\n",
        "- This dataset was manually compiled by the researchers based on an interactive chart from **Statistics and Data** showing:\n",
        "  - The **Global Top 10 Social Media Platforms** by **Monthly Active Users (MAU)**  \n",
        "  - Timeline: **February 2004 to January 2025**\n",
        "\n",
        "- Since no downloadable dataset was provided, the group created their own CSV file containing:\n",
        "  - 📆 Year and Month  \n",
        "  - 🏷️ Platform Name  \n",
        "  - 👥 Monthly Active Users  \n",
        "  - 🏅 Rank per Month\n",
        "\n",
        "- **Source Website:** [Statistics & Data – Most Popular Social Media (2004–2025)](https://statisticsanddata.org/data/most-popular-social-media-2004-2025/?fbclid=IwY2xjawK7OolleHRuA2FlbQIxMQABHlLb727mru341vsUF6i4K2_suxcTzDdB0tJDLk_xLoc0Ifb4_PRylDYjOiNK_aem_Na3LzkWUyR_4eRbxyhf7-w#google_vignette)\n",
        "\n",
        "- The group **attempted to reach out** to the site’s administrators via **email, Messenger, and Instagram**, but received no response as of this notebook's writing.\n",
        "\n",
        "## Import them here:"
      ],
      "metadata": {
        "id": "TPatY6nehYD4"
      }
    },
    {
      "cell_type": "code",
      "source": [
        "import pandas as pd\n",
        "\n",
        "moviesDatasetRaw = \"https://raw.githubusercontent.com/carloscailao/CSMODEL/main/data/Movies_Dataset_TMDB.csv\"\n",
        "socialMediaDatasetRaw = \"https://raw.githubusercontent.com/carloscailao/CSMODEL/main/data/Social_Media_Dataset_Top_10_Social_Media_2004-2025.csv\"\n",
        "\n",
        "moviesDf = pd.read_csv(moviesDatasetRaw)\n",
        "socialMediaDf = pd.read_csv(socialMediaDatasetRaw)"
      ],
      "metadata": {
        "id": "xIjWAW6miaXK"
      },
      "execution_count": 8,
      "outputs": []
    },
    {
      "cell_type": "markdown",
      "source": [
        "---"
      ],
      "metadata": {
        "id": "FKJXWmYtXnlZ"
      }
    },
    {
      "cell_type": "markdown",
      "source": [
        "# Data Preprocessing\n",
        "\n",
        "1. Normalizing the date format for Social Media Dataframe\n",
        "- This allows for smoother conversion later on when working with date entries."
      ],
      "metadata": {
        "id": "haPEHJdoOfiu"
      }
    },
    {
      "cell_type": "code",
      "source": [
        "socialMediaDf['year_month'] = socialMediaDf['year_month'].astype(str)\n",
        "\n",
        "# Ensure month is two digits\n",
        "socialMediaDf['year_month'] = socialMediaDf['year_month'].apply(\n",
        "    lambda x: f\"{x.split('_')[0]}-{int(x.split('_')[1]):02d}\"\n",
        ")\n",
        "socialMediaDf.head()\n"
      ],
      "metadata": {
        "colab": {
          "base_uri": "https://localhost:8080/",
          "height": 406
        },
        "id": "V8iJfWI5TI_x",
        "outputId": "09d01447-1427-404f-f01d-4df70fcc950f"
      },
      "execution_count": 12,
      "outputs": [
        {
          "output_type": "error",
          "ename": "IndexError",
          "evalue": "list index out of range",
          "traceback": [
            "\u001b[0;31m---------------------------------------------------------------------------\u001b[0m",
            "\u001b[0;31mIndexError\u001b[0m                                Traceback (most recent call last)",
            "\u001b[0;32m<ipython-input-12-127283373>\u001b[0m in \u001b[0;36m<cell line: 0>\u001b[0;34m()\u001b[0m\n\u001b[1;32m      2\u001b[0m \u001b[0;34m\u001b[0m\u001b[0m\n\u001b[1;32m      3\u001b[0m \u001b[0;31m# Ensure month is two digits\u001b[0m\u001b[0;34m\u001b[0m\u001b[0;34m\u001b[0m\u001b[0m\n\u001b[0;32m----> 4\u001b[0;31m socialMediaDf['year_month'] = socialMediaDf['year_month'].apply(\n\u001b[0m\u001b[1;32m      5\u001b[0m     \u001b[0;32mlambda\u001b[0m \u001b[0mx\u001b[0m\u001b[0;34m:\u001b[0m \u001b[0;34mf\"{x.split('_')[0]}-{int(x.split('_')[1]):02d}\"\u001b[0m\u001b[0;34m\u001b[0m\u001b[0;34m\u001b[0m\u001b[0m\n\u001b[1;32m      6\u001b[0m )\n",
            "\u001b[0;32m/usr/local/lib/python3.11/dist-packages/pandas/core/series.py\u001b[0m in \u001b[0;36mapply\u001b[0;34m(self, func, convert_dtype, args, by_row, **kwargs)\u001b[0m\n\u001b[1;32m   4922\u001b[0m             \u001b[0margs\u001b[0m\u001b[0;34m=\u001b[0m\u001b[0margs\u001b[0m\u001b[0;34m,\u001b[0m\u001b[0;34m\u001b[0m\u001b[0;34m\u001b[0m\u001b[0m\n\u001b[1;32m   4923\u001b[0m             \u001b[0mkwargs\u001b[0m\u001b[0;34m=\u001b[0m\u001b[0mkwargs\u001b[0m\u001b[0;34m,\u001b[0m\u001b[0;34m\u001b[0m\u001b[0;34m\u001b[0m\u001b[0m\n\u001b[0;32m-> 4924\u001b[0;31m         ).apply()\n\u001b[0m\u001b[1;32m   4925\u001b[0m \u001b[0;34m\u001b[0m\u001b[0m\n\u001b[1;32m   4926\u001b[0m     def _reindex_indexer(\n",
            "\u001b[0;32m/usr/local/lib/python3.11/dist-packages/pandas/core/apply.py\u001b[0m in \u001b[0;36mapply\u001b[0;34m(self)\u001b[0m\n\u001b[1;32m   1425\u001b[0m \u001b[0;34m\u001b[0m\u001b[0m\n\u001b[1;32m   1426\u001b[0m         \u001b[0;31m# self.func is Callable\u001b[0m\u001b[0;34m\u001b[0m\u001b[0;34m\u001b[0m\u001b[0m\n\u001b[0;32m-> 1427\u001b[0;31m         \u001b[0;32mreturn\u001b[0m \u001b[0mself\u001b[0m\u001b[0;34m.\u001b[0m\u001b[0mapply_standard\u001b[0m\u001b[0;34m(\u001b[0m\u001b[0;34m)\u001b[0m\u001b[0;34m\u001b[0m\u001b[0;34m\u001b[0m\u001b[0m\n\u001b[0m\u001b[1;32m   1428\u001b[0m \u001b[0;34m\u001b[0m\u001b[0m\n\u001b[1;32m   1429\u001b[0m     \u001b[0;32mdef\u001b[0m \u001b[0magg\u001b[0m\u001b[0;34m(\u001b[0m\u001b[0mself\u001b[0m\u001b[0;34m)\u001b[0m\u001b[0;34m:\u001b[0m\u001b[0;34m\u001b[0m\u001b[0;34m\u001b[0m\u001b[0m\n",
            "\u001b[0;32m/usr/local/lib/python3.11/dist-packages/pandas/core/apply.py\u001b[0m in \u001b[0;36mapply_standard\u001b[0;34m(self)\u001b[0m\n\u001b[1;32m   1505\u001b[0m         \u001b[0;31m#  Categorical (GH51645).\u001b[0m\u001b[0;34m\u001b[0m\u001b[0;34m\u001b[0m\u001b[0m\n\u001b[1;32m   1506\u001b[0m         \u001b[0maction\u001b[0m \u001b[0;34m=\u001b[0m \u001b[0;34m\"ignore\"\u001b[0m \u001b[0;32mif\u001b[0m \u001b[0misinstance\u001b[0m\u001b[0;34m(\u001b[0m\u001b[0mobj\u001b[0m\u001b[0;34m.\u001b[0m\u001b[0mdtype\u001b[0m\u001b[0;34m,\u001b[0m \u001b[0mCategoricalDtype\u001b[0m\u001b[0;34m)\u001b[0m \u001b[0;32melse\u001b[0m \u001b[0;32mNone\u001b[0m\u001b[0;34m\u001b[0m\u001b[0;34m\u001b[0m\u001b[0m\n\u001b[0;32m-> 1507\u001b[0;31m         mapped = obj._map_values(\n\u001b[0m\u001b[1;32m   1508\u001b[0m             \u001b[0mmapper\u001b[0m\u001b[0;34m=\u001b[0m\u001b[0mcurried\u001b[0m\u001b[0;34m,\u001b[0m \u001b[0mna_action\u001b[0m\u001b[0;34m=\u001b[0m\u001b[0maction\u001b[0m\u001b[0;34m,\u001b[0m \u001b[0mconvert\u001b[0m\u001b[0;34m=\u001b[0m\u001b[0mself\u001b[0m\u001b[0;34m.\u001b[0m\u001b[0mconvert_dtype\u001b[0m\u001b[0;34m\u001b[0m\u001b[0;34m\u001b[0m\u001b[0m\n\u001b[1;32m   1509\u001b[0m         )\n",
            "\u001b[0;32m/usr/local/lib/python3.11/dist-packages/pandas/core/base.py\u001b[0m in \u001b[0;36m_map_values\u001b[0;34m(self, mapper, na_action, convert)\u001b[0m\n\u001b[1;32m    919\u001b[0m             \u001b[0;32mreturn\u001b[0m \u001b[0marr\u001b[0m\u001b[0;34m.\u001b[0m\u001b[0mmap\u001b[0m\u001b[0;34m(\u001b[0m\u001b[0mmapper\u001b[0m\u001b[0;34m,\u001b[0m \u001b[0mna_action\u001b[0m\u001b[0;34m=\u001b[0m\u001b[0mna_action\u001b[0m\u001b[0;34m)\u001b[0m\u001b[0;34m\u001b[0m\u001b[0;34m\u001b[0m\u001b[0m\n\u001b[1;32m    920\u001b[0m \u001b[0;34m\u001b[0m\u001b[0m\n\u001b[0;32m--> 921\u001b[0;31m         \u001b[0;32mreturn\u001b[0m \u001b[0malgorithms\u001b[0m\u001b[0;34m.\u001b[0m\u001b[0mmap_array\u001b[0m\u001b[0;34m(\u001b[0m\u001b[0marr\u001b[0m\u001b[0;34m,\u001b[0m \u001b[0mmapper\u001b[0m\u001b[0;34m,\u001b[0m \u001b[0mna_action\u001b[0m\u001b[0;34m=\u001b[0m\u001b[0mna_action\u001b[0m\u001b[0;34m,\u001b[0m \u001b[0mconvert\u001b[0m\u001b[0;34m=\u001b[0m\u001b[0mconvert\u001b[0m\u001b[0;34m)\u001b[0m\u001b[0;34m\u001b[0m\u001b[0;34m\u001b[0m\u001b[0m\n\u001b[0m\u001b[1;32m    922\u001b[0m \u001b[0;34m\u001b[0m\u001b[0m\n\u001b[1;32m    923\u001b[0m     \u001b[0;34m@\u001b[0m\u001b[0mfinal\u001b[0m\u001b[0;34m\u001b[0m\u001b[0;34m\u001b[0m\u001b[0m\n",
            "\u001b[0;32m/usr/local/lib/python3.11/dist-packages/pandas/core/algorithms.py\u001b[0m in \u001b[0;36mmap_array\u001b[0;34m(arr, mapper, na_action, convert)\u001b[0m\n\u001b[1;32m   1741\u001b[0m     \u001b[0mvalues\u001b[0m \u001b[0;34m=\u001b[0m \u001b[0marr\u001b[0m\u001b[0;34m.\u001b[0m\u001b[0mastype\u001b[0m\u001b[0;34m(\u001b[0m\u001b[0mobject\u001b[0m\u001b[0;34m,\u001b[0m \u001b[0mcopy\u001b[0m\u001b[0;34m=\u001b[0m\u001b[0;32mFalse\u001b[0m\u001b[0;34m)\u001b[0m\u001b[0;34m\u001b[0m\u001b[0;34m\u001b[0m\u001b[0m\n\u001b[1;32m   1742\u001b[0m     \u001b[0;32mif\u001b[0m \u001b[0mna_action\u001b[0m \u001b[0;32mis\u001b[0m \u001b[0;32mNone\u001b[0m\u001b[0;34m:\u001b[0m\u001b[0;34m\u001b[0m\u001b[0;34m\u001b[0m\u001b[0m\n\u001b[0;32m-> 1743\u001b[0;31m         \u001b[0;32mreturn\u001b[0m \u001b[0mlib\u001b[0m\u001b[0;34m.\u001b[0m\u001b[0mmap_infer\u001b[0m\u001b[0;34m(\u001b[0m\u001b[0mvalues\u001b[0m\u001b[0;34m,\u001b[0m \u001b[0mmapper\u001b[0m\u001b[0;34m,\u001b[0m \u001b[0mconvert\u001b[0m\u001b[0;34m=\u001b[0m\u001b[0mconvert\u001b[0m\u001b[0;34m)\u001b[0m\u001b[0;34m\u001b[0m\u001b[0;34m\u001b[0m\u001b[0m\n\u001b[0m\u001b[1;32m   1744\u001b[0m     \u001b[0;32melse\u001b[0m\u001b[0;34m:\u001b[0m\u001b[0;34m\u001b[0m\u001b[0;34m\u001b[0m\u001b[0m\n\u001b[1;32m   1745\u001b[0m         return lib.map_infer_mask(\n",
            "\u001b[0;32mlib.pyx\u001b[0m in \u001b[0;36mpandas._libs.lib.map_infer\u001b[0;34m()\u001b[0m\n",
            "\u001b[0;32m<ipython-input-12-127283373>\u001b[0m in \u001b[0;36m<lambda>\u001b[0;34m(x)\u001b[0m\n\u001b[1;32m      3\u001b[0m \u001b[0;31m# Ensure month is two digits\u001b[0m\u001b[0;34m\u001b[0m\u001b[0;34m\u001b[0m\u001b[0m\n\u001b[1;32m      4\u001b[0m socialMediaDf['year_month'] = socialMediaDf['year_month'].apply(\n\u001b[0;32m----> 5\u001b[0;31m     \u001b[0;32mlambda\u001b[0m \u001b[0mx\u001b[0m\u001b[0;34m:\u001b[0m \u001b[0;34mf\"{x.split('_')[0]}-{int(x.split('_')[1]):02d}\"\u001b[0m\u001b[0;34m\u001b[0m\u001b[0;34m\u001b[0m\u001b[0m\n\u001b[0m\u001b[1;32m      6\u001b[0m )\n\u001b[1;32m      7\u001b[0m \u001b[0msocialMediaDf\u001b[0m\u001b[0;34m.\u001b[0m\u001b[0mhead\u001b[0m\u001b[0;34m(\u001b[0m\u001b[0;34m)\u001b[0m\u001b[0;34m\u001b[0m\u001b[0;34m\u001b[0m\u001b[0m\n",
            "\u001b[0;31mIndexError\u001b[0m: list index out of range"
          ]
        }
      ]
    },
    {
      "cell_type": "markdown",
      "source": [
        "---"
      ],
      "metadata": {
        "id": "JfStBbgqXrfH"
      }
    },
    {
      "cell_type": "markdown",
      "source": [
        "# 💗 Acknowledgements\n",
        "\n",
        "- ✍️ **Writing Assistance & Formatting**  \n",
        "  Portions of the notebook's text — including the abstract, dataset descriptions, and formatting — were improved and polished with the help of **ChatGPT**, developed by **OpenAI**.\n",
        "\n",
        "- 🎨 **Logo Support**  \n",
        "  The Statisteros Modeleros logo image was generated using **ChatGPT (Image & Design Guidance)** using OpenAI's generative tools.\n",
        "\n",
        "- 🧰 **Tool Stack**  \n",
        "  - [Google Colab](https://colab.research.google.com/) for collaborative Python notebook work  \n",
        "  - [GitHub](https://github.com/) for version control and dataset hosting  \n",
        "  - [OpenAI ChatGPT](https://chat.openai.com/) for content support and productivity assistance\n",
        "  "
      ],
      "metadata": {
        "id": "SXvq-EYsNE--"
      }
    }
  ]
}